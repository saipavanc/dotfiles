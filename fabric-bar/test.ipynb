{
 "cells": [
  {
   "cell_type": "code",
   "execution_count": 1,
   "metadata": {},
   "outputs": [],
   "source": [
    "from hyprland.hyprland_monitors import get_gdk_monitor_id_from_name, get_hyprctl_monitor_id_from_name, get_all_monitors"
   ]
  },
  {
   "cell_type": "code",
   "execution_count": 5,
   "metadata": {},
   "outputs": [
    {
     "data": {
      "text/plain": [
       "{0: 'eDP-1', 1: 'HDMI-A-1'}"
      ]
     },
     "execution_count": 5,
     "metadata": {},
     "output_type": "execute_result"
    }
   ],
   "source": [
    "get_all_monitors()"
   ]
  },
  {
   "cell_type": "markdown",
   "metadata": {},
   "source": [
    "# Gtk "
   ]
  },
  {
   "cell_type": "markdown",
   "metadata": {},
   "source": [
    "## Icons"
   ]
  },
  {
   "cell_type": "code",
   "execution_count": 2,
   "metadata": {},
   "outputs": [],
   "source": [
    "import gi\n",
    "gi.require_version('Gtk', '3.0')\n",
    "from gi.repository import Gtk, GdkPixbuf, Gio\n",
    "\n",
    "class IconListRow(Gtk.ListBoxRow):\n",
    "    def __init__(self, name):\n",
    "        super().__init__()\n",
    "        self.connect(\"focus-in-event\", update_info, name)\n",
    "        self.connect(\"activate\", on_row_activate, name)\n",
    "\n",
    "        eb = Gtk.EventBox.new()\n",
    "        self.add(eb)\n",
    "        eb.connect(\"button-press-event\", update_info, name)\n",
    "        box = Gtk.Box.new(Gtk.Orientation.HORIZONTAL, 0)\n",
    "        eb.add(box)\n",
    "\n",
    "        pixbuf = gtk_icon_theme.load_icon(name, 24,\n",
    "                                          Gtk.IconLookupFlags.FORCE_SIZE |\n",
    "                                          Gtk.IconLookupFlags.GENERIC_FALLBACK |\n",
    "                                          Gtk.IconLookupFlags.USE_BUILTIN)\n",
    "        img = Gtk.Image.new_from_pixbuf(pixbuf)\n",
    "        box.pack_start(img, False, False, 6)\n",
    "\n",
    "        lbl = Gtk.Label.new(name)\n",
    "        box.pack_start(lbl, False, False, 0)\n",
    "\n",
    "\n",
    "def update_info(ebox, ebtn, name):\n",
    "    global icon_info\n",
    "    icon_info.update(name)"
   ]
  },
  {
   "cell_type": "code",
   "execution_count": null,
   "metadata": {},
   "outputs": [],
   "source": [
    "import gi\n",
    "gi.require_version(\"Gtk\", \"3.0\")\n",
    "from gi.repository import Gtk\n",
    "from gi.repository.GdkPixbuf import Pixbuf\n",
    "\n",
    "icons = [\"battery-060\", \"edit-paste\", \"edit-copy\", \"nm-signal-50\"]\n",
    "class IconViewWindow(Gtk.Window):\n",
    "    def __init__(self):\n",
    "        super().__init__()\n",
    "        self.set_default_size(200, 200)\n",
    "        liststore = Gtk.ListStore(Pixbuf, str)\n",
    "        iconview = Gtk.IconView.new()\n",
    "        iconview.set_model(liststore)\n",
    "        iconview.set_pixbuf_column(0)\n",
    "        iconview.set_text_column(1)\n",
    "        for icon in icons:\n",
    "            pixbuf = Gtk.IconTheme.get_default().load_icon(icon, 64, 0)\n",
    "            liststore.append([pixbuf, icon])\n",
    "        self.add(iconview)\n",
    "\n",
    "win = IconViewWindow()\n",
    "win.connect(\"destroy\", Gtk.main_quit)\n",
    "win.show_all()\n",
    "Gtk.main()"
   ]
  },
  {
   "cell_type": "code",
   "execution_count": 32,
   "metadata": {},
   "outputs": [
    {
     "data": {
      "text/plain": [
       "<Gtk.IconTheme object at 0x7092ef27fe80 (GtkIconTheme at 0x6112d5002f00)>"
      ]
     },
     "execution_count": 32,
     "metadata": {},
     "output_type": "execute_result"
    }
   ],
   "source": [
    "theme = Gtk.IconTheme.get_default()\n",
    "theme"
   ]
  },
  {
   "cell_type": "markdown",
   "metadata": {},
   "source": [
    "# Fabric"
   ]
  },
  {
   "cell_type": "code",
   "execution_count": 10,
   "metadata": {},
   "outputs": [],
   "source": [
    "import psutil, os, signal\n",
    "for proc in psutil.process_iter(['pid', 'name', 'cmdline']):\n",
    "    if \"python\" in proc.info['name'] and \"fabric_bar.py\" in \" \".join(proc.info['cmdline']):\n",
    "        print(proc.info)\n",
    "        # os.kill(proc.info['pid'], signal.SIGTERM)"
   ]
  },
  {
   "cell_type": "code",
   "execution_count": 1,
   "metadata": {},
   "outputs": [],
   "source": [
    "from fabric.hyprland.service import Hyprland, HyprlandEvent\n",
    "import json"
   ]
  },
  {
   "cell_type": "code",
   "execution_count": 3,
   "metadata": {},
   "outputs": [
    {
     "data": {
      "text/plain": [
       "'/usr/lib/python3.13/site-packages/fabric'"
      ]
     },
     "execution_count": 3,
     "metadata": {},
     "output_type": "execute_result"
    }
   ],
   "source": [
    "import fabric, os\n",
    "os.path.dirname(fabric.__file__)"
   ]
  },
  {
   "cell_type": "code",
   "execution_count": 2,
   "metadata": {},
   "outputs": [],
   "source": [
    "connection: Hyprland | None = None\n",
    "\n",
    "\n",
    "def get_hyprland_connection() -> Hyprland:\n",
    "    global connection\n",
    "    if not connection:\n",
    "        connection = Hyprland()\n",
    "\n",
    "    return connection"
   ]
  },
  {
   "cell_type": "code",
   "execution_count": 3,
   "metadata": {},
   "outputs": [
    {
     "name": "stderr",
     "output_type": "stream",
     "text": [
      "/usr/lib/python3.13/site-packages/fabric/hyprland/service.py:74: Warning: g_object_notify: object class 'fabric+hyprland+service+Hyprland' has no property named 'ready'\n",
      "  return self.notify(\"ready\")\n"
     ]
    }
   ],
   "source": [
    "connection = get_hyprland_connection()"
   ]
  },
  {
   "cell_type": "code",
   "execution_count": 4,
   "metadata": {},
   "outputs": [
    {
     "data": {
      "text/plain": [
       "HyprlandReply(command='j/workspaces', reply=b'[{\\n    \"id\": 1,\\n    \"name\": \"1\",\\n    \"monitor\": \"eDP-1\",\\n    \"monitorID\": 0,\\n    \"windows\": 0,\\n    \"hasfullscreen\": false,\\n    \"lastwindow\": \"0x0\",\\n    \"lastwindowtitle\": \"\"\\n},{\\n    \"id\": 2,\\n    \"name\": \"2\",\\n    \"monitor\": \"eDP-1\",\\n    \"monitorID\": 0,\\n    \"windows\": 0,\\n    \"hasfullscreen\": false,\\n    \"lastwindow\": \"0x0\",\\n    \"lastwindowtitle\": \"\"\\n},{\\n    \"id\": 3,\\n    \"name\": \"3\",\\n    \"monitor\": \"eDP-1\",\\n    \"monitorID\": 0,\\n    \"windows\": 0,\\n    \"hasfullscreen\": false,\\n    \"lastwindow\": \"0x0\",\\n    \"lastwindowtitle\": \"\"\\n},{\\n    \"id\": 4,\\n    \"name\": \"4\",\\n    \"monitor\": \"eDP-1\",\\n    \"monitorID\": 0,\\n    \"windows\": 0,\\n    \"hasfullscreen\": false,\\n    \"lastwindow\": \"0x0\",\\n    \"lastwindowtitle\": \"\"\\n},{\\n    \"id\": 5,\\n    \"name\": \"5\",\\n    \"monitor\": \"eDP-1\",\\n    \"monitorID\": 0,\\n    \"windows\": 0,\\n    \"hasfullscreen\": false,\\n    \"lastwindow\": \"0x0\",\\n    \"lastwindowtitle\": \"\"\\n},{\\n    \"id\": 6,\\n    \"name\": \"6\",\\n    \"monitor\": \"eDP-1\",\\n    \"monitorID\": 0,\\n    \"windows\": 0,\\n    \"hasfullscreen\": false,\\n    \"lastwindow\": \"0x0\",\\n    \"lastwindowtitle\": \"\"\\n},{\\n    \"id\": 7,\\n    \"name\": \"7\",\\n    \"monitor\": \"eDP-1\",\\n    \"monitorID\": 0,\\n    \"windows\": 0,\\n    \"hasfullscreen\": false,\\n    \"lastwindow\": \"0x0\",\\n    \"lastwindowtitle\": \"\"\\n},{\\n    \"id\": 8,\\n    \"name\": \"8\",\\n    \"monitor\": \"eDP-1\",\\n    \"monitorID\": 0,\\n    \"windows\": 0,\\n    \"hasfullscreen\": false,\\n    \"lastwindow\": \"0x0\",\\n    \"lastwindowtitle\": \"\"\\n},{\\n    \"id\": 9,\\n    \"name\": \"9\",\\n    \"monitor\": \"eDP-1\",\\n    \"monitorID\": 0,\\n    \"windows\": 0,\\n    \"hasfullscreen\": false,\\n    \"lastwindow\": \"0x0\",\\n    \"lastwindowtitle\": \"\"\\n},{\\n    \"id\": 10,\\n    \"name\": \"10\",\\n    \"monitor\": \"eDP-1\",\\n    \"monitorID\": 0,\\n    \"windows\": 0,\\n    \"hasfullscreen\": false,\\n    \"lastwindow\": \"0x0\",\\n    \"lastwindowtitle\": \"\"\\n},{\\n    \"id\": 11,\\n    \"name\": \"11\",\\n    \"monitor\": \"eDP-1\",\\n    \"monitorID\": 0,\\n    \"windows\": 0,\\n    \"hasfullscreen\": false,\\n    \"lastwindow\": \"0x0\",\\n    \"lastwindowtitle\": \"\"\\n},{\\n    \"id\": 14,\\n    \"name\": \"14\",\\n    \"monitor\": \"HDMI-A-1\",\\n    \"monitorID\": 1,\\n    \"windows\": 1,\\n    \"hasfullscreen\": false,\\n    \"lastwindow\": \"0x5f0b20ad7700\",\\n    \"lastwindowtitle\": \"\\xe2\\x97\\x8f test.ipynb - fabric-bar - Visual Studio Code\"\\n},{\\n    \"id\": 13,\\n    \"name\": \"13\",\\n    \"monitor\": \"HDMI-A-1\",\\n    \"monitorID\": 1,\\n    \"windows\": 1,\\n    \"hasfullscreen\": false,\\n    \"lastwindow\": \"0x5f0b20b22490\",\\n    \"lastwindowtitle\": \"OAuth application authorized \\xe2\\x80\\x94 Mozilla Firefox\"\\n},{\\n    \"id\": 12,\\n    \"name\": \"12\",\\n    \"monitor\": \"HDMI-A-1\",\\n    \"monitorID\": 1,\\n    \"windows\": 1,\\n    \"hasfullscreen\": false,\\n    \"lastwindow\": \"0x5f0b1ff14860\",\\n    \"lastwindowtitle\": \"keybinds.conf - custom  \\xe2\\x80\\x94 Kate\"\\n}]', is_ok=False)"
      ]
     },
     "execution_count": 4,
     "metadata": {},
     "output_type": "execute_result"
    }
   ],
   "source": [
    "connection.send_command(\"j/workspaces\")"
   ]
  },
  {
   "cell_type": "code",
   "execution_count": 9,
   "metadata": {},
   "outputs": [
    {
     "data": {
      "text/plain": [
       "(14, 13, 12)"
      ]
     },
     "execution_count": 9,
     "metadata": {},
     "output_type": "execute_result"
    }
   ],
   "source": [
    "tuple(\n",
    "            workspace[\"id\"]\n",
    "            for workspace in json.loads(\n",
    "                str(connection.send_command(\"j/workspaces\").reply.decode())\n",
    "            )\n",
    "            if workspace[\"monitor\"]==\"HDMI-A-1\"\n",
    "        )"
   ]
  },
  {
   "cell_type": "code",
   "execution_count": 20,
   "metadata": {},
   "outputs": [],
   "source": [
    "workspaces=json.loads(\n",
    "        str(connection.send_command(\"j/workspaces\").reply.decode())\n",
    "    )"
   ]
  },
  {
   "cell_type": "code",
   "execution_count": 46,
   "metadata": {},
   "outputs": [
    {
     "data": {
      "text/plain": [
       "{'address': '0x5f0b1ff14860',\n",
       " 'mapped': True,\n",
       " 'hidden': False,\n",
       " 'at': [6, 6],\n",
       " 'size': [1908, 1068],\n",
       " 'workspace': {'id': 12, 'name': '12'},\n",
       " 'floating': False,\n",
       " 'pseudo': False,\n",
       " 'monitor': 1,\n",
       " 'class': 'org.kde.kate',\n",
       " 'title': 'keybinds.conf - custom  — Kate',\n",
       " 'initialClass': 'org.kde.kate',\n",
       " 'initialTitle': 'Kate',\n",
       " 'pid': 108926,\n",
       " 'xwayland': False,\n",
       " 'pinned': False,\n",
       " 'fullscreen': 0,\n",
       " 'fullscreenClient': 0,\n",
       " 'grouped': [],\n",
       " 'tags': [],\n",
       " 'swallowing': '0x0',\n",
       " 'focusHistoryID': 3,\n",
       " 'inhibitingIdle': False}"
      ]
     },
     "execution_count": 46,
     "metadata": {},
     "output_type": "execute_result"
    }
   ],
   "source": [
    "clients=json.loads(\n",
    "        str(connection.send_command(\"j/clients\").reply.decode())\n",
    "    )\n",
    "clients[0]"
   ]
  },
  {
   "cell_type": "code",
   "execution_count": 47,
   "metadata": {},
   "outputs": [],
   "source": [
    "def hyprland_monitor_info(monitor_name:str):\n",
    "    monitors = json.loads(\n",
    "        str(connection.send_command(\"j/monitors\").reply.decode())\n",
    "    )\n",
    "    for monior in monitors:\n",
    "        if monior[\"name\"]==monitor_name:\n",
    "            return monior\n",
    "    raise ValueError(f\"Monitor {monitor_name} not found\")\n",
    "\n",
    "def active_workspace_id_on_monitor(monitor_name:str):\n",
    "    monitor = hyprland_monitor_info(monitor_name)\n",
    "    return monitor['activeWorkspace']['id']\n",
    "\n",
    "def workspace_ids_on_monitor(monitor_name:str):\n",
    "    workspaces=json.loads(\n",
    "        str(connection.send_command(\"j/workspaces\").reply.decode())\n",
    "    )\n",
    "    return [workspace[\"id\"] for workspace in workspaces if workspace[\"monitor\"]==monitor_name]\n",
    "\n",
    "def active_client_on_monitor(monitor_name:str):\n",
    "    active_workspace_id = active_workspace_id_on_monitor(monitor_name)\n",
    "    workspaces=json.loads(\n",
    "        str(get_hyprland_connection().send_command(\"j/workspaces\").reply.decode())\n",
    "    )\n",
    "    active_workspace_on_monitor = [workspace for workspace in workspaces if workspace[\"id\"]==active_workspace_id][0]\n",
    "    clients=json.loads(\n",
    "        str(get_hyprland_connection().send_command(\"j/clients\").reply.decode())\n",
    "    )\n",
    "    return [client for client in clients if client[\"address\"]==active_workspace_on_monitor[\"lastwindow\"]][0]"
   ]
  },
  {
   "cell_type": "code",
   "execution_count": 50,
   "metadata": {},
   "outputs": [
    {
     "data": {
      "text/plain": [
       "{'address': '0x5f0b20a83110',\n",
       " 'mapped': True,\n",
       " 'hidden': False,\n",
       " 'at': [1926, 6],\n",
       " 'size': [1908, 1068],\n",
       " 'workspace': {'id': 1, 'name': '1'},\n",
       " 'floating': False,\n",
       " 'pseudo': False,\n",
       " 'monitor': 0,\n",
       " 'class': 'kitty',\n",
       " 'title': '~/Downloads',\n",
       " 'initialClass': 'kitty',\n",
       " 'initialTitle': 'kitty',\n",
       " 'pid': 127515,\n",
       " 'xwayland': False,\n",
       " 'pinned': False,\n",
       " 'fullscreen': 0,\n",
       " 'fullscreenClient': 0,\n",
       " 'grouped': [],\n",
       " 'tags': [],\n",
       " 'swallowing': '0x0',\n",
       " 'focusHistoryID': 1,\n",
       " 'inhibitingIdle': False}"
      ]
     },
     "execution_count": 50,
     "metadata": {},
     "output_type": "execute_result"
    }
   ],
   "source": [
    "active_client_on_monitor(\"eDP-1\")"
   ]
  },
  {
   "cell_type": "code",
   "execution_count": 48,
   "metadata": {},
   "outputs": [
    {
     "data": {
      "text/plain": [
       "1"
      ]
     },
     "execution_count": 48,
     "metadata": {},
     "output_type": "execute_result"
    }
   ],
   "source": [
    "active_workspace_id_on_monitor(\"eDP-1\")"
   ]
  },
  {
   "cell_type": "markdown",
   "metadata": {},
   "source": [
    "# Basic windows"
   ]
  },
  {
   "cell_type": "code",
   "execution_count": 1,
   "metadata": {},
   "outputs": [
    {
     "name": "stderr",
     "output_type": "stream",
     "text": [
      "\u001b[32m2025-01-26 18:56:46.200\u001b[0m | \u001b[34m\u001b[1mDEBUG   \u001b[0m | \u001b[36mfabric.core.application\u001b[0m:\u001b[36mdo_activate\u001b[0m:\u001b[36m311\u001b[0m - \u001b[34m\u001b[1m[Fabric] opening a DBus client for Application with name default\u001b[0m\n"
     ]
    }
   ],
   "source": [
    "import fabric # importing the base pacakge\n",
    "from fabric import Application # prepare the application class which manages multi-config setups\n",
    "from fabric.widgets.box import Box # gets the Box class\n",
    "from fabric.widgets.label import Label # gets the Label class\n",
    "from fabric.widgets.window import Window # grabs the Window class from Fabric\n",
    "\n",
    "\n",
    "if __name__ == \"__main__\":\n",
    "    box_1 = Box(\n",
    "        orientation=\"v\", # vertical\n",
    "        children=Label(label=\"this is the first box\")\n",
    "    )\n",
    "    box_2 = Box(\n",
    "        spacing=28, # adds some spacing between the children\n",
    "        orientation=\"h\", # horizontal\n",
    "        children=[\n",
    "            Label(label=\"this is the first element in the second box\"),\n",
    "            Label(label=\"btw, this box elements will get added horizontally\")\n",
    "        ]\n",
    "    )\n",
    "    box_1.add(box_2) # append box_2 inside box_1 along with the label already in there\n",
    "\n",
    "    window = Window(child=box_1) # there's no need showing this window using `show_all()`; it'll show them itself because the children are already passed\n",
    "    app = Application(\"default\", window) # define a new config named \"defualt\" which holds `window`\n",
    "\n",
    "    app.run() # run the event loop (run the config)"
   ]
  }
 ],
 "metadata": {
  "kernelspec": {
   "display_name": "Python 3",
   "language": "python",
   "name": "python3"
  },
  "language_info": {
   "codemirror_mode": {
    "name": "ipython",
    "version": 3
   },
   "file_extension": ".py",
   "mimetype": "text/x-python",
   "name": "python",
   "nbconvert_exporter": "python",
   "pygments_lexer": "ipython3",
   "version": "3.13.2"
  }
 },
 "nbformat": 4,
 "nbformat_minor": 2
}
